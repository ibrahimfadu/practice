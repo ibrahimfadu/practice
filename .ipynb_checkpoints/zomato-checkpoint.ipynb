{
 "cells": [
  {
   "cell_type": "markdown",
   "id": "eb0b2aea-b600-43fd-b635-16f535b0bfdd",
   "metadata": {},
   "source": []
  },
  {
   "cell_type": "code",
   "execution_count": 1,
   "id": "792186cc-9e33-43d1-986b-10bf59dbc975",
   "metadata": {},
   "outputs": [],
   "source": [
    "import pandas as pd\n",
    "import numpy as np\n",
    "import matplotlib.pyplot as plt"
   ]
  },
  {
   "cell_type": "code",
   "execution_count": 8,
   "id": "3a899373-9e5b-442a-bc49-81ab5713e84b",
   "metadata": {},
   "outputs": [
    {
     "data": {
      "text/plain": [
       "array([[0.08332697, 0.23260518, 0.99164141],\n",
       "       [0.45280297, 0.74233056, 0.56782308],\n",
       "       [0.5353988 , 0.97868051, 0.83867687],\n",
       "       [0.36368343, 0.83549437, 0.25515752],\n",
       "       [0.40075215, 0.23829854, 0.05093994],\n",
       "       [0.55967506, 0.02333082, 0.41284596],\n",
       "       [0.29199772, 0.85431746, 0.70353304],\n",
       "       [0.64299398, 0.42443063, 0.55747346],\n",
       "       [0.87975402, 0.48667274, 0.12963759],\n",
       "       [0.7925856 , 0.16110399, 0.80502101]])"
      ]
     },
     "execution_count": 8,
     "metadata": {},
     "output_type": "execute_result"
    }
   ],
   "source": [
    "y=np.random.rand(10,3)"
   ]
  },
  {
   "cell_type": "code",
   "execution_count": 22,
   "id": "8904757b-0911-4d8a-9091-cdbaa6718bb0",
   "metadata": {},
   "outputs": [
    {
     "data": {
      "text/plain": [
       "array([[[ 1.49598846,  1.74139052,  0.64803688],\n",
       "        [ 0.33315217,  0.03612094, -0.25194623],\n",
       "        [-1.18881063, -0.69443604, -1.18910386],\n",
       "        [-1.41246693,  1.9708038 , -0.7437621 ],\n",
       "        [-0.43761541, -0.28239676,  0.93865258]]])"
      ]
     },
     "execution_count": 22,
     "metadata": {},
     "output_type": "execute_result"
    }
   ],
   "source": [
    "np.random.randn(1,5,3)"
   ]
  },
  {
   "cell_type": "code",
   "execution_count": 47,
   "id": "9d0873c3-4f03-490e-a601-851a195c5e7d",
   "metadata": {},
   "outputs": [
    {
     "data": {
      "text/html": [
       "<div>\n",
       "<style scoped>\n",
       "    .dataframe tbody tr th:only-of-type {\n",
       "        vertical-align: middle;\n",
       "    }\n",
       "\n",
       "    .dataframe tbody tr th {\n",
       "        vertical-align: top;\n",
       "    }\n",
       "\n",
       "    .dataframe thead th {\n",
       "        text-align: right;\n",
       "    }\n",
       "</style>\n",
       "<table border=\"1\" class=\"dataframe\">\n",
       "  <thead>\n",
       "    <tr style=\"text-align: right;\">\n",
       "      <th></th>\n",
       "      <th>A</th>\n",
       "      <th>B</th>\n",
       "      <th>C</th>\n",
       "      <th>D</th>\n",
       "    </tr>\n",
       "  </thead>\n",
       "  <tbody>\n",
       "    <tr>\n",
       "      <th>0</th>\n",
       "      <td>13</td>\n",
       "      <td>11</td>\n",
       "      <td>12</td>\n",
       "      <td>15</td>\n",
       "    </tr>\n",
       "    <tr>\n",
       "      <th>1</th>\n",
       "      <td>4</td>\n",
       "      <td>15</td>\n",
       "      <td>14</td>\n",
       "      <td>11</td>\n",
       "    </tr>\n",
       "    <tr>\n",
       "      <th>2</th>\n",
       "      <td>5</td>\n",
       "      <td>5</td>\n",
       "      <td>11</td>\n",
       "      <td>18</td>\n",
       "    </tr>\n",
       "    <tr>\n",
       "      <th>3</th>\n",
       "      <td>15</td>\n",
       "      <td>15</td>\n",
       "      <td>11</td>\n",
       "      <td>1</td>\n",
       "    </tr>\n",
       "    <tr>\n",
       "      <th>4</th>\n",
       "      <td>10</td>\n",
       "      <td>5</td>\n",
       "      <td>17</td>\n",
       "      <td>3</td>\n",
       "    </tr>\n",
       "  </tbody>\n",
       "</table>\n",
       "</div>"
      ],
      "text/plain": [
       "    A   B   C   D\n",
       "0  13  11  12  15\n",
       "1   4  15  14  11\n",
       "2   5   5  11  18\n",
       "3  15  15  11   1\n",
       "4  10   5  17   3"
      ]
     },
     "execution_count": 47,
     "metadata": {},
     "output_type": "execute_result"
    }
   ],
   "source": [
    "y=np.random.randint(1,21,20,).reshape(5,4)\n",
    "x=pd.DataFrame(y)\n",
    "x.rename(columns={0:'A',1:'B',2:'C',3:'D'},inplace=True)\n",
    "x"
   ]
  },
  {
   "cell_type": "code",
   "execution_count": null,
   "id": "038781d3-c190-4567-b696-05986221e276",
   "metadata": {},
   "outputs": [],
   "source": [
    "#hop cloths\n",
    "#Sales\n"
   ]
  }
 ],
 "metadata": {
  "kernelspec": {
   "display_name": "Python 3 (ipykernel)",
   "language": "python",
   "name": "python3"
  },
  "language_info": {
   "codemirror_mode": {
    "name": "ipython",
    "version": 3
   },
   "file_extension": ".py",
   "mimetype": "text/x-python",
   "name": "python",
   "nbconvert_exporter": "python",
   "pygments_lexer": "ipython3",
   "version": "3.11.7"
  }
 },
 "nbformat": 4,
 "nbformat_minor": 5
}
